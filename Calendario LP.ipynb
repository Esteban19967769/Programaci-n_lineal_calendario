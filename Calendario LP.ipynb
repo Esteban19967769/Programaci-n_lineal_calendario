{
 "cells": [
  {
   "cell_type": "code",
   "execution_count": 1,
   "id": "93ae06d6-7f74-4306-9b2d-60fab8826bcd",
   "metadata": {
    "tags": []
   },
   "outputs": [],
   "source": [
    "import pandas as pd\n",
    "import numpy as np\n",
    "from datetime import datetime\n",
    "#pulp requiere instalarse primero en la consola: pip install pulp\n",
    "from pulp import LpMaximize, LpProblem, lpSum, LpVariable"
   ]
  },
  {
   "cell_type": "code",
   "execution_count": 2,
   "id": "8b9f5f6e-b65b-4aa9-9bd1-6825e89ee88e",
   "metadata": {
    "tags": []
   },
   "outputs": [],
   "source": [
    "#CARGAR SCORES\n",
    "score_pl = pd.read_csv(\"score_pl.csv\")\n",
    "score_pl = score_pl.set_index('dia',drop=True)"
   ]
  },
  {
   "cell_type": "code",
   "execution_count": 3,
   "id": "ab84d377-6cf7-4171-acf8-390622fbb7e0",
   "metadata": {
    "tags": []
   },
   "outputs": [],
   "source": [
    "#CREAR DATAFRAME QUE ALMACENARÁ VARIABLES --> EN ESTE CASO, ES DEPENDIENTE DE LA DIMENSIÓN DE LOS SCORES\n",
    "calendario = pd.DataFrame(index=score_pl.index.values, columns=score_pl.columns.values)"
   ]
  },
  {
   "cell_type": "code",
   "execution_count": 4,
   "id": "24425774-37a3-45f8-ad7f-ade8a83fc0d8",
   "metadata": {
    "tags": []
   },
   "outputs": [],
   "source": [
    "# Crear un problema de maximización lineal\n",
    "problema = LpProblem(\"Maximizar_Resultados\", LpMaximize)"
   ]
  },
  {
   "cell_type": "code",
   "execution_count": 5,
   "id": "8002d7f6-55f4-4140-9ed9-0102d049a43a",
   "metadata": {
    "tags": []
   },
   "outputs": [],
   "source": [
    "# Crear variables de decisión: para la familia j, el día i, se envía correo (1) o no (0)\n",
    "for j in calendario.columns.values:\n",
    "    for i in calendario.index.values:\n",
    "        calendario.loc[i,j] = LpVariable(f\"X_{i}_{j}\", lowBound=0)  # Variables de decisión\n",
    "        #calendario.loc[i,j] = LpVariable(f\"X_{i}_{j}\", lowBound=0, cat=\"Integer\")  # Problema de decisión entera (sólo puede ser 1 o 0)\n"
   ]
  },
  {
   "cell_type": "code",
   "execution_count": 6,
   "id": "3e59b359-82f4-43cd-b6ad-7b1dc1f085f8",
   "metadata": {
    "tags": []
   },
   "outputs": [],
   "source": [
    "# Crear función objetivo\n",
    "problema += lpSum(score_pl.loc[i, j] * calendario.loc[i, j] for i in calendario.index.values for j in calendario.columns.values), \"FuncionObjetivo\"\n"
   ]
  },
  {
   "cell_type": "code",
   "execution_count": 7,
   "id": "1c445778-09b9-403b-8e4f-06f048ca30c9",
   "metadata": {
    "tags": []
   },
   "outputs": [],
   "source": [
    "# Restricciones\n",
    "# Restricción de envío díario: máximo 1 por día\n",
    "for i in calendario.index.values:\n",
    "    for j in calendario.columns.values:\n",
    "        #SE DEBE DETERMINAR QUÉ DÍA DE LA SEMANA ES EL DÍA A ASIGNAR\n",
    "        if datetime.strptime(i,'%Y-%m-%d').weekday() in (5,6): #FIN DE SEMANA, NO HAY ENVÍOS\n",
    "            problema += calendario.loc[i,j] <= 0, f\"Restricción día {i}, familia {j}\"\n",
    "        else: #SI ES DÍA LABORAL, A LO MÁS HAY UN ENVÍO X FAMILIA\n",
    "            problema += calendario.loc[i,j] <= 1, f\"Restricción día {i}, familia {j}\"\n",
    "    \n",
    "    #SE DETERMINA PARA CADA DÍA, EL MÁXIMO TOTAL DE ENVÍOS A ASIGNAR\n",
    "    if datetime.strptime(i,'%Y-%m-%d').weekday() in (5,6): #FIN DE SEMANA, NO HAY ENVÍOS\n",
    "        problema += lpSum(calendario.loc[i,j] for j in calendario.columns.values) <= 0, f\"Restricción Máximos envíos el día {i}\"\n",
    "    else:\n",
    "        problema += lpSum(calendario.loc[i,j] for j in calendario.columns.values) <= 4, f\"Restricción Máximos envíos el día {i}\"\n"
   ]
  },
  {
   "cell_type": "code",
   "execution_count": 9,
   "id": "79c3d6f7-a333-4679-b4b6-1c3e03fd0c1b",
   "metadata": {},
   "outputs": [],
   "source": [
    "# Máximos envíos permitidos por familia al mes\n",
    "envios_4 = ['0209-HERRAMIENTAS Y MAQUINARIAS','0313-BANOS Y COCINAS','0314-PISOS','0316-ELECTROHOGAR','0417-MUEBLES']\n",
    "envios_3 = ['0101-MADERA Y TABLEROS','0104-TABIQUERIA/TECHUMBRE/AISLACION','0522-AIRE LIBRE','0523-JARDIN']\n",
    "envios_2 = ['0103-FIERRO/HIERRO/ACERO','0210-FERRETERIA','0328-PUERTAS/VENTANAS/MOLDURAS']\n",
    "envios_1 = ['0419-DECORACION','0427-ORGANIZACION']\n",
    "envios_0 = ['0105-OBRA GRUESA','0206-PLOMERIA / GASFITERIA','0207-ELECTRICIDAD','0208-ACCESORIOS AUTOMOVILES','0211-CASA INTELIGENTE','0312-PINTURA Y ACCESORIOS','0415-ILUMINACION Y VENTILADORES','0418-MENAJE','0420-ASEO']\n",
    "\n",
    "for j in calendario.columns.values:\n",
    "    #SI LA FAMILIA j ESTÁ EN EL ARREGLO envios_X, se le asignan X envíos.\n",
    "    if j in envios_4:\n",
    "        problema += lpSum(calendario.loc[i,j] for i in calendario.index.values) <= 4, f\"Restricción Máximos envíos al mes familia {j}\"\n",
    "    \n",
    "    if j in envios_3:\n",
    "        problema += lpSum(calendario.loc[i,j] for i in calendario.index.values) <= 3, f\"Restricción Máximos envíos al mes familia {j}\"\n",
    "\n",
    "    if j in envios_2:\n",
    "        problema += lpSum(calendario.loc[i,j] for i in calendario.index.values) <= 2, f\"Restricción Máximos envíos al mes familia {j}\"\n",
    "\n",
    "    if j in envios_1:\n",
    "        problema += lpSum(calendario.loc[i,j] for i in calendario.index.values) <= 1, f\"Restricción Máximos envíos al mes familia {j}\"\n",
    "\n",
    "    if j in envios_0:\n",
    "        problema += lpSum(calendario.loc[i,j] for i in calendario.index.values) <= 0, f\"Restricción Máximos envíos al mes familia {j}\"\n"
   ]
  },
  {
   "cell_type": "code",
   "execution_count": 10,
   "id": "3a64dbc0-094b-468c-891c-db58fde6d192",
   "metadata": {
    "tags": []
   },
   "outputs": [],
   "source": [
    "#SE CREA DATAFRAME CON PARES \"n_semana\",\"dia\", PARA SABER A QUÉ SEMANA k CORRESPONDE EL DÍA i\n",
    "semana=pd.DataFrame({'n_semana':list(map(lambda x: datetime.strptime(x,'%Y-%m-%d').isocalendar().week, list(calendario.index.values))),'dia':list(calendario.index.values)})\n",
    "\n",
    "for k in set(map(lambda x: datetime.strptime(x,'%Y-%m-%d').isocalendar().week, list(calendario.index.values))):\n",
    "    for j in calendario.columns.values:\n",
    "        #PARA CADA FAMILIA, LA SUMA TOTAL DE ENVÍOS A LA SEMANA NO PUEDE SER MAYOR A 1\n",
    "        problema += lpSum(calendario.loc[i,j] for i in (semana[semana['n_semana']==k]['dia'])) <= 1, f\"Restricción Máximos semana {k} familia {j}\"\n"
   ]
  },
  {
   "cell_type": "code",
   "execution_count": 11,
   "id": "8d6b8c22-6a91-4631-8d3a-71a114894fd0",
   "metadata": {
    "tags": []
   },
   "outputs": [
    {
     "name": "stdout",
     "output_type": "stream",
     "text": [
      "Welcome to the CBC MILP Solver \n",
      "Version: 2.10.3 \n",
      "Build Date: Dec 15 2019 \n",
      "\n",
      "command line - /opt/conda/lib/python3.9/site-packages/pulp/solverdir/cbc/linux/64/cbc /var/tmp/4f231dd524bc412e9745fd6ff40fae66-pulp.mps -max -timeMode elapsed -branch -printingOptions all -solution /var/tmp/4f231dd524bc412e9745fd6ff40fae66-pulp.sol (default strategy 1)\n",
      "At line 2 NAME          MODEL\n",
      "At line 3 ROWS\n",
      "At line 863 COLUMNS\n",
      "At line 4312 RHS\n",
      "At line 5171 BOUNDS\n",
      "At line 5172 ENDATA\n",
      "Problem MODEL has 858 rows, 690 columns and 2760 elements\n",
      "Coin0008I MODEL read with 0 errors\n",
      "Option for timeMode changed from cpu to elapsed\n",
      "Presolve 106 (-752) rows, 308 (-382) columns and 924 (-1836) elements\n",
      "0  Obj -0 Dual inf 2.8196734e+09 (308)\n",
      "49  Obj 6.7323148e+08 Primal inf 13.999986 (14)\n",
      "65  Obj 6.5543598e+08\n",
      "Optimal - objective value 6.5543598e+08\n",
      "After Postsolve, objective 6.5543598e+08, infeasibilities - dual 0 (0), primal 0 (0)\n",
      "Optimal objective 655435984 - 65 iterations time 0.002, Presolve 0.00\n",
      "Option for printingOptions changed from normal to all\n",
      "Total time (CPU seconds):       0.00   (Wallclock seconds):       0.01\n",
      "\n"
     ]
    },
    {
     "data": {
      "text/plain": [
       "1"
      ]
     },
     "execution_count": 11,
     "metadata": {},
     "output_type": "execute_result"
    }
   ],
   "source": [
    "problema.solve()"
   ]
  },
  {
   "cell_type": "code",
   "execution_count": 21,
   "id": "48fa5e09-eddd-4eab-9d0f-6a5ceffefeb4",
   "metadata": {
    "tags": []
   },
   "outputs": [],
   "source": [
    "df_final=[]\n",
    "\n",
    "#SE CREA LISTA PARA PARES DÍA i Y FAMILIA j QUE TUVIERON ASIGNACIÓN\n",
    "for i in calendario.index.values:\n",
    "    for j in calendario.columns.values:\n",
    "        if calendario.loc[i,j].value() > 0:\n",
    "            df_final.append(i+\"_\"+j)\n"
   ]
  },
  {
   "cell_type": "code",
   "execution_count": 24,
   "id": "ed8a4af5-4969-4545-901d-0b3581005ca1",
   "metadata": {
    "tags": []
   },
   "outputs": [],
   "source": [
    "#SE EXPORTA LISTA A CSV\n",
    "pd.DataFrame(df_final).to_csv(\"calendario.csv\")\n"
   ]
  }
 ],
 "metadata": {
  "environment": {
   "kernel": "python3",
   "name": "tf2-gpu.2-6.m118",
   "type": "gcloud",
   "uri": "us-docker.pkg.dev/deeplearning-platform-release/gcr.io/tf2-gpu.2-6:m118"
  },
  "kernelspec": {
   "display_name": "Python 3 (Local)",
   "language": "python",
   "name": "python3"
  },
  "language_info": {
   "codemirror_mode": {
    "name": "ipython",
    "version": 3
   },
   "file_extension": ".py",
   "mimetype": "text/x-python",
   "name": "python",
   "nbconvert_exporter": "python",
   "pygments_lexer": "ipython3",
   "version": "3.9.18"
  }
 },
 "nbformat": 4,
 "nbformat_minor": 5
}
